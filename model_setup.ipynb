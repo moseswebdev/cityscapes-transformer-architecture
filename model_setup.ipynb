{
 "cells": [
  {
   "cell_type": "code",
   "execution_count": null,
   "id": "2e11bde2",
   "metadata": {},
   "outputs": [],
   "source": [
    "from dataset import CityscapesDataset"
   ]
  },
  {
   "cell_type": "code",
   "execution_count": 1,
   "id": "5ffff1b0",
   "metadata": {
    "colab": {
     "base_uri": "https://localhost:8080/"
    },
    "id": "YHKE6eLzIQ08",
    "outputId": "f7d41356-44be-4bc2-d954-7efe9108dc04"
   },
   "outputs": [
    {
     "name": "stdout",
     "output_type": "stream",
     "text": [
      "Mounted at /content/drive\n"
     ]
    }
   ],
   "source": [
    "from google.colab import drive\n",
    "\n",
    "drive.mount('/content/drive')"
   ]
  },
  {
   "cell_type": "code",
   "execution_count": 8,
   "id": "bcd72f3e",
   "metadata": {
    "colab": {
     "base_uri": "https://localhost:8080/"
    },
    "id": "4HULUSFDWXJS",
    "outputId": "d30a864a-8049-4a1e-ea5c-250a33abd282"
   },
   "outputs": [
    {
     "name": "stdout",
     "output_type": "stream",
     "text": [
      "env: CUDA_LAUNCH_BLOCKING=1\n"
     ]
    }
   ],
   "source": [
    "%env CUDA_LAUNCH_BLOCKING=1\n"
   ]
  }
 ],
 "metadata": {},
 "nbformat": 4,
 "nbformat_minor": 5
}
