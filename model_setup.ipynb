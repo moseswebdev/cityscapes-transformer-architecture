{
 "cells": [
  {
   "cell_type": "code",
   "execution_count": 1,
   "id": "5ffff1b0",
   "metadata": {
    "colab": {
     "base_uri": "https://localhost:8080/"
    },
    "id": "YHKE6eLzIQ08",
    "outputId": "f7d41356-44be-4bc2-d954-7efe9108dc04"
   },
   "outputs": [
    {
     "name": "stdout",
     "output_type": "stream",
     "text": [
      "Mounted at /content/drive\n"
     ]
    }
   ],
   "source": [
    "from google.colab import drive\n",
    "\n",
    "drive.mount('/content/drive')"
   ]
  },
  {
   "cell_type": "code",
   "execution_count": 7,
   "id": "73b7a620",
   "metadata": {
    "id": "S5wowja1Tjj8"
   },
   "outputs": [],
   "source": [
    "class CityscapesDataset(Dataset):\n",
    "    def __init__(self, image_dir, mask_dir, transform=None, processor=None):\n",
    "        self.image_dir = image_dir\n",
    "        self.mask_dir = mask_dir\n",
    "        self.image_filenames = os.listdir(image_dir)\n",
    "        self.transform = transform\n",
    "        self.processor = processor\n",
    "\n",
    "    def __len__(self):\n",
    "        return len(self.image_filenames)\n",
    "\n",
    "    def __getitem__(self, idx):\n",
    "        img_path = os.path.join(self.image_dir, self.image_filenames[idx])\n",
    "        mask_path = os.path.join(self.mask_dir, self.image_filenames[idx])\n",
    "\n",
    "        image = cv2.imread(img_path)\n",
    "        image = cv2.cvtColor(image, cv2.COLOR_BGR2RGB)\n",
    "\n",
    "        mask = cv2.imread(mask_path, cv2.IMREAD_GRAYSCALE)\n",
    "        mask = np.array(mask, dtype=np.uint8)  # Ensure NumPy format\n",
    "\n",
    "        # 🚀 Fix: Ensure masks are within range\n",
    "        mask[mask >= 19] = 18  # Limit mask values to valid classes (0-18)\n",
    "\n",
    "        if self.transform:\n",
    "            augmented = self.transform(image=image, mask=mask)\n",
    "            image, mask = augmented[\"image\"], augmented[\"mask\"]\n",
    "\n",
    "        mask = torch.tensor(mask, dtype=torch.long)  # Convert back to tensor\n",
    "\n",
    "        if self.processor:\n",
    "            inputs = self.processor(image, return_tensors=\"pt\")\n",
    "            image = inputs['pixel_values'].squeeze(0)\n",
    "\n",
    "        return image, mask\n"
   ]
  },
  {
   "cell_type": "code",
   "execution_count": 8,
   "id": "bcd72f3e",
   "metadata": {
    "colab": {
     "base_uri": "https://localhost:8080/"
    },
    "id": "4HULUSFDWXJS",
    "outputId": "d30a864a-8049-4a1e-ea5c-250a33abd282"
   },
   "outputs": [
    {
     "name": "stdout",
     "output_type": "stream",
     "text": [
      "env: CUDA_LAUNCH_BLOCKING=1\n"
     ]
    }
   ],
   "source": [
    "%env CUDA_LAUNCH_BLOCKING=1\n"
   ]
  }
 ],
 "metadata": {},
 "nbformat": 4,
 "nbformat_minor": 5
}
